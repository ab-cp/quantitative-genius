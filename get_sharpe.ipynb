{
 "cells": [
  {
   "cell_type": "code",
   "execution_count": 3,
   "metadata": {},
   "outputs": [
    {
     "name": "stderr",
     "output_type": "stream",
     "text": [
      "[*********************100%%**********************]  5 of 5 completed"
     ]
    },
    {
     "name": "stdout",
     "output_type": "stream",
     "text": [
      "Ticker\n",
      "AAPL     0.644810\n",
      "GOOGL    0.546241\n",
      "MCK      1.869564\n",
      "MSFT     0.739856\n",
      "SPY      0.568841\n",
      "dtype: float64\n"
     ]
    },
    {
     "name": "stderr",
     "output_type": "stream",
     "text": [
      "\n"
     ]
    }
   ],
   "source": [
    "# Install necessary libraries\n",
    "#!pip install yfinance pandas\n",
    "# This line ensures that plots are displayed inline within the notebook\n",
    "%matplotlib inline\n",
    "\n",
    "import yfinance as yf\n",
    "import pandas as pd\n",
    "import numpy as np\n",
    "import matplotlib.pyplot as plt\n",
    "\n",
    "def calculate_sharpe_ratio(tickers, start_date, end_date, risk_free_rate=0.01):\n",
    "    # Download historical stock prices\n",
    "    data = yf.download(tickers, start=start_date, end=end_date)['Adj Close']\n",
    "    \n",
    "    # Calculate daily returns\n",
    "    daily_returns = data.pct_change().dropna()\n",
    "    \n",
    "    # Calculate the mean and standard deviation of daily returns\n",
    "    mean_daily_returns = daily_returns.mean()\n",
    "    std_daily_returns = daily_returns.std()\n",
    "    \n",
    "    # Calculate the annualized Sharpe ratio\n",
    "    sharpe_ratios = (mean_daily_returns - risk_free_rate / 252) / std_daily_returns * np.sqrt(252)\n",
    "    \n",
    "    return sharpe_ratios\n",
    "\n",
    "# Define parameters\n",
    "tickers = ['AAPL', 'MSFT', 'GOOGL','SPY','MCK']  # Example tickers\n",
    "start_date = '2021-07-01'\n",
    "end_date = '2024-07-01'\n",
    "risk_free_rate = 0.01  # Example risk-free rate (1%)\n",
    "\n",
    "# Calculate Sharpe ratios\n",
    "sharpe_ratios = calculate_sharpe_ratio(tickers, start_date, end_date, risk_free_rate)\n",
    "\n",
    "print(sharpe_ratios)\n"
   ]
  },
  {
   "cell_type": "code",
   "execution_count": 4,
   "metadata": {},
   "outputs": [
    {
     "ename": "TypeError",
     "evalue": "'numpy.ndarray' object is not callable",
     "output_type": "error",
     "traceback": [
      "\u001b[1;31m---------------------------------------------------------------------------\u001b[0m",
      "\u001b[1;31mTypeError\u001b[0m                                 Traceback (most recent call last)",
      "Cell \u001b[1;32mIn[4], line 3\u001b[0m\n\u001b[0;32m      1\u001b[0m \u001b[38;5;66;03m# Extract keys and values\u001b[39;00m\n\u001b[0;32m      2\u001b[0m stocks \u001b[38;5;241m=\u001b[39m \u001b[38;5;28mlist\u001b[39m(sharpe_ratios\u001b[38;5;241m.\u001b[39mkeys())\n\u001b[1;32m----> 3\u001b[0m values \u001b[38;5;241m=\u001b[39m \u001b[38;5;28mlist\u001b[39m(\u001b[43msharpe_ratios\u001b[49m\u001b[38;5;241;43m.\u001b[39;49m\u001b[43mvalues\u001b[49m\u001b[43m(\u001b[49m\u001b[43m)\u001b[49m)\n\u001b[0;32m      5\u001b[0m \u001b[38;5;66;03m# Create the bar chart\u001b[39;00m\n\u001b[0;32m      6\u001b[0m plt\u001b[38;5;241m.\u001b[39mfigure(figsize\u001b[38;5;241m=\u001b[39m(\u001b[38;5;241m10\u001b[39m, \u001b[38;5;241m6\u001b[39m))\n",
      "\u001b[1;31mTypeError\u001b[0m: 'numpy.ndarray' object is not callable"
     ]
    }
   ],
   "source": [
    "# Extract keys and values\n",
    "stocks = list(sharpe_ratios.keys())\n",
    "values = list(sharpe_ratios.values())\n",
    "\n",
    "# Create the bar chart\n",
    "plt.figure(figsize=(10, 6))\n",
    "plt.bar(stocks, values, color='skyblue')\n",
    "\n",
    "# Add titles and labels\n",
    "plt.title('Sharpe Ratios of Different Stocks')\n",
    "plt.xlabel('Stocks')\n",
    "plt.ylabel('Sharpe Ratio')\n",
    "\n",
    "# Show the chart\n",
    "plt.show()"
   ]
  }
 ],
 "metadata": {
  "kernelspec": {
   "display_name": "myproject_kernel",
   "language": "python",
   "name": "myproject_kernel"
  },
  "language_info": {
   "codemirror_mode": {
    "name": "ipython",
    "version": 3
   },
   "file_extension": ".py",
   "mimetype": "text/x-python",
   "name": "python",
   "nbconvert_exporter": "python",
   "pygments_lexer": "ipython3",
   "version": "3.12.4"
  }
 },
 "nbformat": 4,
 "nbformat_minor": 2
}
